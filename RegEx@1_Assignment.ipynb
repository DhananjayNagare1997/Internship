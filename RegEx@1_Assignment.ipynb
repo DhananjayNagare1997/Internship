{
 "cells": [
  {
   "cell_type": "raw",
   "id": "6416bb2c",
   "metadata": {},
   "source": [
    "Question 1- Write a RegEx pattern in python program to check that a string contains only a certain set of\n",
    "characters (in this case a-z, A-Z and 0-9)."
   ]
  },
  {
   "cell_type": "code",
   "execution_count": 3,
   "id": "26201617",
   "metadata": {},
   "outputs": [
    {
     "name": "stdout",
     "output_type": "stream",
     "text": [
      "Enter a string to check only alphanumeric charectors are present: mnv,mn,sm\n",
      "The given string contains charectors other than alphanumeric.\n"
     ]
    },
    {
     "data": {
      "text/plain": [
       "False"
      ]
     },
     "execution_count": 3,
     "metadata": {},
     "output_type": "execute_result"
    }
   ],
   "source": [
    "#Ans:\n",
    "import re\n",
    "\n",
    "\n",
    "input_string = input(\"Enter a string to check only alphanumeric charectors are present: \")\n",
    "\n",
    "\n",
    "def contins_check_alphanumeric(input_string):\n",
    "    pattern = re.compile(r'^[a-zA-Z0-9]+$')     #r'=prefix,^=start of string,[]=checkinside(a-z,A-Z,0-9),+=one ore more preceding charactors,$=end of string\n",
    "    return bool(pattern.match(input_string))\n",
    "\n",
    "\n",
    "if contins_check_alphanumeric(input_string):\n",
    "    print(\"The given string contains only alphanumeric charectors.\")\n",
    "else:\n",
    "    print(\"The given string contains charectors other than alphanumeric.\")\n",
    "\n",
    "\n",
    "contins_check_alphanumeric(input_string)     #Cross check"
   ]
  },
  {
   "cell_type": "raw",
   "id": "087d789a",
   "metadata": {},
   "source": [
    "Question 2- Write a RegEx pattern that matches a string that has an a followed by zero or more b's"
   ]
  },
  {
   "cell_type": "code",
   "execution_count": 13,
   "id": "8ce9f053",
   "metadata": {},
   "outputs": [
    {
     "name": "stdout",
     "output_type": "stream",
     "text": [
      "Enter a string to check if it matches pattern 'a*' : a0000\n",
      "The string matches the pattern 'a*'.\n"
     ]
    },
    {
     "data": {
      "text/plain": [
       "True"
      ]
     },
     "execution_count": 13,
     "metadata": {},
     "output_type": "execute_result"
    }
   ],
   "source": [
    "#Ans:\n",
    "import re\n",
    "\n",
    "\n",
    "def pattern_match(input_string):\n",
    "    pattern = re.compile(r'ab*')\n",
    "    return bool(pattern.match(input_string))\n",
    "\n",
    "\n",
    "user_input_string = input(\"Enter a string to check if it matches pattern 'a*' : \")\n",
    "\n",
    "\n",
    "if pattern_match(user_input_string):\n",
    "    print(\"The string matches the pattern 'a*'.\")\n",
    "else:\n",
    "    print(\"The string does not match the pattern 'a*'.\")\n",
    "\n",
    "pattern_match(user_input_string)    #Cross Check"
   ]
  },
  {
   "cell_type": "raw",
   "id": "230abc62",
   "metadata": {},
   "source": [
    "Question 3- Write a RegEx pattern that matches a string that has an a followed by one or more b's"
   ]
  },
  {
   "cell_type": "code",
   "execution_count": 17,
   "id": "0b0f8ac6",
   "metadata": {},
   "outputs": [
    {
     "name": "stdout",
     "output_type": "stream",
     "text": [
      "Enter a string to check if it matches the pattern 'ab+': dn cmsdn ab dkcbakja\n",
      "The given string matches the pattern 'ab+'.\n"
     ]
    },
    {
     "data": {
      "text/plain": [
       "True"
      ]
     },
     "execution_count": 17,
     "metadata": {},
     "output_type": "execute_result"
    }
   ],
   "source": [
    "#Ans:\n",
    "\n",
    "import re\n",
    "\n",
    "def pattern_match(input_string):\n",
    "    pattern = re.compile(r'ab+')\n",
    "    return bool(pattern.search(input_string))\n",
    "\n",
    "user_input_string = input(\"Enter a string to check if it matches the pattern 'ab+': \")\n",
    "\n",
    "if pattern_match(user_input_string):\n",
    "    print(\"The given string matches the pattern 'ab+'.\")\n",
    "else:\n",
    "    print(\"The given string not matches the pattern 'ab+'.\")\n",
    "    \n",
    "pattern_match(user_input_string)    "
   ]
  },
  {
   "cell_type": "raw",
   "id": "b53d1d8c",
   "metadata": {},
   "source": [
    "Question 4- Write a RegEx pattern that matches a string that has an a followed by zero or one 'b'"
   ]
  },
  {
   "cell_type": "code",
   "execution_count": 25,
   "id": "28a626d0",
   "metadata": {},
   "outputs": [
    {
     "name": "stdout",
     "output_type": "stream",
     "text": [
      "Enter a string  tob check if  it matches pattern 'a*': .sbckwjbljA\n",
      "The given string does not matche the pattern 'ab?'.\n"
     ]
    },
    {
     "data": {
      "text/plain": [
       "False"
      ]
     },
     "execution_count": 25,
     "metadata": {},
     "output_type": "execute_result"
    }
   ],
   "source": [
    "#Ans:\n",
    "\n",
    "import re\n",
    "\n",
    "def pattern_match(input_string):\n",
    "    pattern = re.compile(r'ab?')\n",
    "    return bool(pattern.search(input_string))\n",
    "\n",
    "user_input_string = input(\"Enter a string  tob check if  it matches pattern 'a*': \")\n",
    "\n",
    "if pattern_match(user_input_string):\n",
    "    print(\"The given string matche the pattern 'ab?'.\")\n",
    "else:\n",
    "    print(\"The given string does not matche the pattern 'ab?'.\")\n",
    "    \n",
    "pattern_match(user_input_string)    "
   ]
  },
  {
   "cell_type": "raw",
   "id": "a7339dff",
   "metadata": {},
   "source": [
    "Question 5- Write a RegEx pattern in python program that matches a string that has an a followed by\n",
    "three 'b'"
   ]
  },
  {
   "cell_type": "code",
   "execution_count": 29,
   "id": "32c3939a",
   "metadata": {},
   "outputs": [
    {
     "name": "stdout",
     "output_type": "stream",
     "text": [
      "Enter a string to check if it matches the pattern 'ab{3}'.jdnckasjnabbb\n",
      "The input string matches the pattern 'ab{3}'\n"
     ]
    },
    {
     "data": {
      "text/plain": [
       "True"
      ]
     },
     "execution_count": 29,
     "metadata": {},
     "output_type": "execute_result"
    }
   ],
   "source": [
    "#Ans:\n",
    "\n",
    "import re\n",
    "\n",
    "def pattern_match(input_string):\n",
    "    pattern = re.compile(r'ab{3}')\n",
    "    return bool(pattern.search(input_string))\n",
    "\n",
    "user_input_string = input(\"Enter a string to check if it matches the pattern 'ab{3}'.\")\n",
    "\n",
    "if pattern_match(user_input_string):\n",
    "    print(\"The input string matches the pattern 'ab{3}'\")\n",
    "else:\n",
    "    print(\"The input string not matches the pattern 'ab{3}''.\")\n",
    " \n",
    "pattern_match(user_input_string)"
   ]
  },
  {
   "cell_type": "raw",
   "id": "3c235214",
   "metadata": {},
   "source": [
    "Question 6- Write a RegEx pattern in python program that matches a string that has an a followed by\n",
    "two to three 'b'."
   ]
  },
  {
   "cell_type": "code",
   "execution_count": 36,
   "id": "264fcab1",
   "metadata": {},
   "outputs": [
    {
     "name": "stdout",
     "output_type": "stream",
     "text": [
      "Enter a string to check if it  matches the pattern 'ab{2,3}': hsvbcjhbxabb\n",
      "The string matches the pattern 'ab{2,3}'.\n"
     ]
    },
    {
     "data": {
      "text/plain": [
       "True"
      ]
     },
     "execution_count": 36,
     "metadata": {},
     "output_type": "execute_result"
    }
   ],
   "source": [
    "#Ans:\n",
    "import re\n",
    "\n",
    "def pattern_match(input_string):\n",
    "    pattern = re.compile(r'ab{2,3}')\n",
    "    return bool(pattern.search(input_string))\n",
    "\n",
    "user_input_string = input(\"Enter a string to check if it  matches the pattern 'ab{2,3}': \")\n",
    "\n",
    "if pattern_match(user_input_string):\n",
    "    print(\"The string matches the pattern 'ab{2,3}'.\")\n",
    "else:\n",
    "    print(\"The string does not match the pattern 'ab{2,3}'.\")\n",
    "\n",
    "pattern_match(user_input_string)    "
   ]
  },
  {
   "cell_type": "raw",
   "id": "8c389426",
   "metadata": {},
   "source": [
    "Question 7- Write a Python program that matches a string that has an 'a' followed by anything, ending in 'b'."
   ]
  },
  {
   "cell_type": "code",
   "execution_count": 43,
   "id": "ebf5fb2d",
   "metadata": {},
   "outputs": [
    {
     "name": "stdout",
     "output_type": "stream",
     "text": [
      "Enter a string to check if it matches the pattern '^a.*b$'.abc ksdjbdsjb\n",
      "The string matches the pattern '^a.*b$'.\n"
     ]
    },
    {
     "data": {
      "text/plain": [
       "True"
      ]
     },
     "execution_count": 43,
     "metadata": {},
     "output_type": "execute_result"
    }
   ],
   "source": [
    "#Ans:\n",
    "\n",
    "import re\n",
    "\n",
    "def pattern_match(input_string):\n",
    "    pattern = re.compile(r'^a.*b$')\n",
    "    return bool(pattern.match(input_string))\n",
    "\n",
    "user_input_string = input(\"Enter a string to check if it matches the pattern '^a.*b$'.\")\n",
    "\n",
    "if pattern_match(user_input_string):\n",
    "    print(\"The string matches the pattern '^a.*b$'.\")\n",
    "else:\n",
    "    print(\"The string does not match the pattern '^a.*b$'.\")\n",
    "\n",
    "pattern_match(user_input_string)    "
   ]
  },
  {
   "cell_type": "raw",
   "id": "dd6116ea",
   "metadata": {},
   "source": [
    "Question 8- Write a RegEx pattern in Python program that matches a word at the beginning of a string."
   ]
  },
  {
   "cell_type": "code",
   "execution_count": 63,
   "id": "0cc14097",
   "metadata": {},
   "outputs": [
    {
     "name": "stdout",
     "output_type": "stream",
     "text": [
      "Enter a string to check it start with a word: prtjjt\n",
      "String start with a word.\n"
     ]
    },
    {
     "data": {
      "text/plain": [
       "True"
      ]
     },
     "execution_count": 63,
     "metadata": {},
     "output_type": "execute_result"
    }
   ],
   "source": [
    "#I have doubt this question gives me invalid resuld when I enter a numeric value as a strin.\n",
    "#Ans:\n",
    "\n",
    "import re\n",
    "\n",
    "def match_word_at_beginning(input_string):\n",
    "    pattern = re.compile(r'^[a-zA-Z]+\\w*')\n",
    "    return bool(pattern.match(input_string))\n",
    "\n",
    "user_input_string = input(\"Enter a string to check it start with a word: \")\n",
    "\n",
    "if match_word_at_beginning(user_input_string):\n",
    "    print(\"String start with a word.\")\n",
    "else:\n",
    "    print(\"String does not start with a word.\")\n",
    "    \n",
    "match_word_at_beginning(user_input_string)    "
   ]
  },
  {
   "cell_type": "raw",
   "id": "a38df25a",
   "metadata": {},
   "source": [
    "Question 9- Write a RegEx pattern in a python program that matches a word at the end of a string."
   ]
  },
  {
   "cell_type": "code",
   "execution_count": 78,
   "id": "cdeb3ab1",
   "metadata": {},
   "outputs": [
    {
     "name": "stdout",
     "output_type": "stream",
     "text": [
      "Enter a string to check if it ends with a word: ,asvdhdb_\n",
      "String not ends with the word.\n"
     ]
    },
    {
     "data": {
      "text/plain": [
       "False"
      ]
     },
     "execution_count": 78,
     "metadata": {},
     "output_type": "execute_result"
    }
   ],
   "source": [
    "#Ans:\n",
    "\n",
    "import re\n",
    "\n",
    "def match_word_at_beginning(input_string):\n",
    "    pattern = re.compile(r'[a-zA-Z]+$')\n",
    "    return bool(pattern.search(input_string))\n",
    "\n",
    "user_input_string = input(\"Enter a string to check if it ends with a word: \")\n",
    "\n",
    "\n",
    "if match_word_at_beginning(user_input_string):\n",
    "    print(\"String ends with the word.\")\n",
    "else:\n",
    "    print(\"String not ends with the word.\")\n",
    "    \n",
    "match_word_at_beginning(user_input_string)    "
   ]
  },
  {
   "cell_type": "raw",
   "id": "ef04a3c8",
   "metadata": {},
   "source": [
    "Question 10- Write a RegEx pattern in python program to find all words that are 4 digits long in a string.\n",
    "Sample text- '01 0132 231875 1458 301 2725'\n",
    "Expected output- ['0132','1458','2725']"
   ]
  },
  {
   "cell_type": "code",
   "execution_count": 79,
   "id": "c011a828",
   "metadata": {},
   "outputs": [
    {
     "name": "stdout",
     "output_type": "stream",
     "text": [
      "['0132', '1458', '2725']\n"
     ]
    }
   ],
   "source": [
    "#Ans:\n",
    "\n",
    "import re\n",
    "\n",
    "def find_four_digit_number(input_string):\n",
    "    pattern = re.compile(r'\\b\\d{4}\\b')\n",
    "    return pattern.findall(input_string)\n",
    "\n",
    "number_string = '01 0132 231875 1458 301 2725'\n",
    "\n",
    "result = find_four_digit_number(number_string)\n",
    "\n",
    "print(result)"
   ]
  },
  {
   "cell_type": "code",
   "execution_count": null,
   "id": "9381d886",
   "metadata": {},
   "outputs": [],
   "source": []
  },
  {
   "cell_type": "code",
   "execution_count": null,
   "id": "d48858a8",
   "metadata": {},
   "outputs": [],
   "source": []
  }
 ],
 "metadata": {
  "kernelspec": {
   "display_name": "Python 3 (ipykernel)",
   "language": "python",
   "name": "python3"
  },
  "language_info": {
   "codemirror_mode": {
    "name": "ipython",
    "version": 3
   },
   "file_extension": ".py",
   "mimetype": "text/x-python",
   "name": "python",
   "nbconvert_exporter": "python",
   "pygments_lexer": "ipython3",
   "version": "3.11.4"
  }
 },
 "nbformat": 4,
 "nbformat_minor": 5
}
